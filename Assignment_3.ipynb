{
 "cells": [
  {
   "cell_type": "markdown",
   "id": "55eba7f0-a9e2-4bbf-9148-39f8c7dc4272",
   "metadata": {},
   "source": [
    "# Assignment_3"
   ]
  },
  {
   "cell_type": "raw",
   "id": "f402fe45-ec8c-4d4b-b98b-e2225bfa2860",
   "metadata": {},
   "source": [
    "1. Why are functions advantageous to have in your programs?"
   ]
  },
  {
   "cell_type": "raw",
   "id": "3d731de3-875d-497d-a773-3b63f714b7b1",
   "metadata": {},
   "source": [
    "function is very advantageous when it comes in coding.They make easy to writa a code and manage your code very good,\n",
    "fuction are advantageous to have in your programing for followings resons,\n",
    "1.Debugging and testing : we can test the function and debugging the it in very good way.\n",
    "2.Modular Programming: function can help you can divide your code in smaller , it can reduce the line of code into smaller.\n",
    "3.Code Reusability:function can allow to write a code once and repeat it when you need or not.you can use a line code multiple time."
   ]
  },
  {
   "cell_type": "raw",
   "id": "c0804da3-ce55-4ace-8d5c-931ecf5370ac",
   "metadata": {},
   "source": [
    "2. When does the code in a function run: when it's specified or when it's called?"
   ]
  },
  {
   "cell_type": "raw",
   "id": "e37b487e-a269-4198-84db-a63137b652a8",
   "metadata": {},
   "source": [
    "The code in a function runs when the function is called, not when it is specified.when you explain a function in python, you can creating a reusable block of code that can we executed later. this function is executed the code when you call the function.the function is exectuted begining to end .The function can  accept arguments, which allow you to pass data into the function for it to process.\n",
    "It is important to note that function is executed multiple times when the function is called with a different argument and different input."
   ]
  },
  {
   "cell_type": "raw",
   "id": "f85bac65-eae8-4a29-9a4a-0b3df4cd81e6",
   "metadata": {},
   "source": [
    "3. What statement creates a function?"
   ]
  },
  {
   "cell_type": "raw",
   "id": "f28856b4-e9ec-4369-be41-caaff2e84ef7",
   "metadata": {},
   "source": [
    "def satatement is used to create a function .'def' keyword is used to make a function."
   ]
  },
  {
   "cell_type": "raw",
   "id": "b8293844-fbae-4ea3-8ae2-7362a1337afd",
   "metadata": {},
   "source": [
    "4. What is the difference between a function and a function call?"
   ]
  },
  {
   "cell_type": "raw",
   "id": "6ca9b55f-6189-4673-b4dd-862d11fb0993",
   "metadata": {},
   "source": [
    "Function and function are very different things.\n",
    "Function is a block of code that perform specific task by using 'def' keyword.you can reuse it multiple time to perform a specific task.\n",
    "Function calling: when you call a function ,that you are asking to python to execute the code in function and return the output .\n",
    "for example,"
   ]
  },
  {
   "cell_type": "code",
   "execution_count": 4,
   "id": "c6368021-3f39-4912-be30-49f13fcdf484",
   "metadata": {},
   "outputs": [
    {
     "name": "stdout",
     "output_type": "stream",
     "text": [
      "5\n"
     ]
    }
   ],
   "source": [
    "# when you make a function\n",
    "def sub_numbers(a,b):\n",
    "    return b-a\n",
    "\n",
    "# when you call function \n",
    "bill = sub_numbers(4,9)\n",
    "print(bill)"
   ]
  },
  {
   "cell_type": "raw",
   "id": "a8f8bc6d-bbfd-44e0-bb96-bd442934818f",
   "metadata": {},
   "source": [
    "5. How many global scopes are there in a Python program? How many local scopes?"
   ]
  },
  {
   "cell_type": "raw",
   "id": "e521c8fc-7776-48fb-8c8a-4ba3d56592ee",
   "metadata": {},
   "source": [
    "In Python, there is only one global scope, which is  variables and functions that are defined outside of any funtion or class are stored. On the other hand, each fuction call creates a new local scope, which is an area of the program where variables and functions that are defined inside a fuction are stored. The number of local scopes in a Python program depends on how many fuctions are called."
   ]
  },
  {
   "cell_type": "raw",
   "id": "03fc890a-862c-40d3-8211-1ebff1e496aa",
   "metadata": {},
   "source": [
    "6. What happens to variables in a local scope when the function call returns?"
   ]
  },
  {
   "cell_type": "raw",
   "id": "18a5c19d-b1e0-4809-9f65-e822f37d95f1",
   "metadata": {},
   "source": [
    "Local variables only exist for the duration of the fuction call, and their values are lost when the fuction call returns. If you want to preserve the value of a variable beyond the duration of a fuction call, you can return it from the fuction and assign it to a global or local variable outside the fuction."
   ]
  },
  {
   "cell_type": "raw",
   "id": "9481baee-888f-4975-a6cf-6b3971452129",
   "metadata": {},
   "source": [
    "7. What is the concept of a return value? Is it possible to have a return value in an expression?"
   ]
  },
  {
   "cell_type": "raw",
   "id": "09f382fa-d8c4-4e47-8afb-accc6bcf1597",
   "metadata": {},
   "source": [
    "In Python, a return value is the value that a fuction sends back to the point where it was called. It allows the fuction to pass a value or values to the code that called it. Yes, it is possible to have a return value in an expression, which means you can use the return value as part of an expression to assign it to a variable or use it in another operation."
   ]
  },
  {
   "cell_type": "raw",
   "id": "b5cf00a1-9ca3-40d5-9ce1-2b7dfc3b4eb7",
   "metadata": {},
   "source": [
    "8. If a function does not have a return statement, what is the return value of a call to that function?"
   ]
  },
  {
   "cell_type": "raw",
   "id": "e252277a-7dc0-419d-9b92-fcd582b42804",
   "metadata": {},
   "source": [
    "If a function in Python does not have a return statement, the return value of a call to that function is \"None\". In other words, the function call will execute the code within the function, but it won't return any value back to the caller, so the return value will be None by default."
   ]
  },
  {
   "cell_type": "raw",
   "id": "311fe4af-edea-45ef-a9ff-312f98122725",
   "metadata": {},
   "source": [
    "9. How do you make a function variable refer to the global variable?"
   ]
  },
  {
   "cell_type": "code",
   "execution_count": 6,
   "id": "a530aaab-d6fa-41c2-b1bb-dac247990e76",
   "metadata": {},
   "outputs": [
    {
     "name": "stdout",
     "output_type": "stream",
     "text": [
      "20\n",
      "20\n"
     ]
    }
   ],
   "source": [
    "a = 10\n",
    "\n",
    "def my_test():\n",
    "    global a\n",
    "    a = 20\n",
    "    print(a)\n",
    "\n",
    "my_test()\n",
    "print(a)\n"
   ]
  },
  {
   "cell_type": "raw",
   "id": "c5419360-de2b-46b7-9af7-8c6fdddc6005",
   "metadata": {},
   "source": [
    "10. What is the data type of None?"
   ]
  },
  {
   "cell_type": "raw",
   "id": "bc7753e4-0898-4ad3-ad83-54acff6a362d",
   "metadata": {},
   "source": [
    "'None' is represent the absence of value.'None' is a built-in constant object of the \"NoneType\" data type"
   ]
  },
  {
   "cell_type": "raw",
   "id": "dfad95f1-6421-48a3-95a0-28f0846c462d",
   "metadata": {},
   "source": [
    "11. What does the sentence import areallyourpetsnamederic do?"
   ]
  },
  {
   "cell_type": "raw",
   "id": "43506d97-50bc-4290-abb1-b958ae764be8",
   "metadata": {},
   "source": [
    "THe line or sentence \"import areallyourpetsnamederic\" in python is a valid import statement that try to import a module or a library.\n",
    "but, python doesn't import this module because it show error that \"ModuleNotFoundError\" error and in python there is not any type of module named as \"areallyourpetsnamederic\""
   ]
  },
  {
   "cell_type": "raw",
   "id": "7971f420-2550-4fc7-bdab-3429cf0b53c7",
   "metadata": {},
   "source": [
    "12. If you had a bacon() feature in a spam module, what would you call it after importing spam?"
   ]
  },
  {
   "cell_type": "raw",
   "id": "5a9cf956-424b-45c0-aacd-02648d6401fc",
   "metadata": {},
   "source": [
    "if you had a bacon() feature in a spam module, firstly you import the mofule name \"spam\" and then use a dot to use the bacon() feature."
   ]
  },
  {
   "cell_type": "raw",
   "id": "ed2331a9-1367-4f27-bc7d-e2c1bd823d8c",
   "metadata": {},
   "source": [
    "import spam\n",
    "spam.bacon()"
   ]
  },
  {
   "cell_type": "raw",
   "id": "c9a2acfb-6ee3-4ce1-9f79-f633a1688c25",
   "metadata": {},
   "source": [
    "13. What can you do to save a programme from crashing if it encounters an error?"
   ]
  },
  {
   "cell_type": "raw",
   "id": "cfb6b6a3-deb2-42e8-9af2-87dd94f139cf",
   "metadata": {},
   "source": [
    "we can use exception handling to save a program from crashing if it encounters an error. Exception handling allows you to catch and handle errors that occur during program execution"
   ]
  },
  {
   "cell_type": "raw",
   "id": "7dffb5e5-ff6f-446a-bfe3-29c63237c8b3",
   "metadata": {},
   "source": [
    "14. What is the purpose of the try clause? What is the purpose of the except clause?"
   ]
  },
  {
   "cell_type": "code",
   "execution_count": null,
   "id": "87250168-e374-4790-b9df-0abf2ec5222b",
   "metadata": {},
   "outputs": [],
   "source": []
  }
 ],
 "metadata": {
  "kernelspec": {
   "display_name": "Python 3 (ipykernel)",
   "language": "python",
   "name": "python3"
  },
  "language_info": {
   "codemirror_mode": {
    "name": "ipython",
    "version": 3
   },
   "file_extension": ".py",
   "mimetype": "text/x-python",
   "name": "python",
   "nbconvert_exporter": "python",
   "pygments_lexer": "ipython3",
   "version": "3.10.6"
  }
 },
 "nbformat": 4,
 "nbformat_minor": 5
}
